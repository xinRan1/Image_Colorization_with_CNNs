{
 "cells": [
  {
   "cell_type": "code",
   "execution_count": 1,
   "metadata": {},
   "outputs": [],
   "source": [
    "import numpy as np\n",
    "import pickle\n",
    "import matplotlib.pyplot as plt\n",
    "import pandas as pd\n",
    "import tensorflow as tf\n",
    "from sklearn.cluster import KMeans\n",
    "from sklearn.model_selection import train_test_split"
   ]
  },
  {
   "cell_type": "markdown",
   "metadata": {},
   "source": [
    "1. import data of graphs in"
   ]
  },
  {
   "cell_type": "code",
   "execution_count": 21,
   "metadata": {},
   "outputs": [],
   "source": [
    "# unpickle graphic data and merge ones only for cats together\n",
    "def unpickle(file):\n",
    "    with open(file, 'rb') as f:\n",
    "        dic = pickle.load(f, encoding='bytes')\n",
    "    features = dic[b'data'].reshape((len(dic[b'data']), 3, 32, 32)).transpose(0, 2, 3, 1)\n",
    "    labels = dic[b'labels']\n",
    "    return (features, labels)\n",
    "\n",
    "def merge_cat_only(data):\n",
    "    data_lst = []\n",
    "    for i in range(len(data[0])):\n",
    "        if data[1][i] == 3:\n",
    "            data_lst.append(data[0][i])\n",
    "    return data_lst\n",
    "\n",
    "def process(data, file_name):\n",
    "    unpickled = unpickle(file_name)\n",
    "    data += merge_cat_only(unpickled)\n",
    "    return data\n"
   ]
  },
  {
   "cell_type": "code",
   "execution_count": 22,
   "metadata": {},
   "outputs": [],
   "source": [
    "data = []\n",
    "data = process(data, '../data/cifar-10-batches-py/data_batch_1')\n",
    "data = process(data, '../data/cifar-10-batches-py/data_batch_2')\n",
    "data = process(data, '../data/cifar-10-batches-py/data_batch_3')\n",
    "data = process(data, '../data/cifar-10-batches-py/data_batch_4')\n",
    "data = process(data, '../data/cifar-10-batches-py/data_batch_5')\n",
    "data = process(data, '../data/cifar-10-batches-py/test_batch')\n"
   ]
  },
  {
   "cell_type": "code",
   "execution_count": 25,
   "metadata": {},
   "outputs": [
    {
     "data": {
      "text/plain": [
       "(6000, 32, 32, 3)"
      ]
     },
     "execution_count": 25,
     "metadata": {},
     "output_type": "execute_result"
    }
   ],
   "source": [
    "# shape of the CIFAR-10 data after reformat\n",
    "np.array(data).shape"
   ]
  },
  {
   "cell_type": "code",
   "execution_count": 45,
   "metadata": {
    "scrolled": true
   },
   "outputs": [
    {
     "data": {
      "text/plain": [
       "<matplotlib.image.AxesImage at 0x7fbe57bddc40>"
      ]
     },
     "execution_count": 45,
     "metadata": {},
     "output_type": "execute_result"
    },
    {
     "data": {
      "image/png": "[encoded data removed]",
      "text/plain": [
       "<Figure size 432x288 with 1 Axes>"
      ]
     },
     "metadata": {
      "needs_background": "light"
     },
     "output_type": "display_data"
    }
   ],
   "source": [
    "# we will only use cats' graphs, an example:\n",
    "plt.imshow(data[0])"
   ]
  },
  {
   "cell_type": "markdown",
   "metadata": {},
   "source": [
    "2. Use pixel information to do k-means clustering"
   ]
  },
  {
   "cell_type": "code",
   "execution_count": 51,
   "metadata": {},
   "outputs": [
    {
     "data": {
      "text/plain": [
       "KMeans(n_clusters=4)"
      ]
     },
     "execution_count": 51,
     "metadata": {},
     "output_type": "execute_result"
    }
   ],
   "source": [
    "# store data in pixels' format\n",
    "pixels = np.reshape(data, (6144000, 3))\n",
    "\n",
    "# do k-means clustering \n",
    "kmeans = KMeans(n_clusters=4)\n",
    "kmeans.fit(pixels)"
   ]
  },
  {
   "cell_type": "code",
   "execution_count": 52,
   "metadata": {
    "scrolled": true
   },
   "outputs": [
    {
     "data": {
      "text/plain": [
       "array([[163.3187086 , 151.26074227, 136.77409076],\n",
       "       [108.28710992,  93.96058495,  79.85542317],\n",
       "       [ 43.26783083,  36.73813443,  32.31351481],\n",
       "       [220.13706019, 217.34916432, 212.52691036]])"
      ]
     },
     "execution_count": 52,
     "metadata": {},
     "output_type": "execute_result"
    }
   ],
   "source": [
    "# show cluster centers\n",
    "kmeans.cluster_centers_"
   ]
  },
  {
   "cell_type": "code",
   "execution_count": 53,
   "metadata": {},
   "outputs": [],
   "source": [
    "# assign closest color to each point and generate their corresponding output \n",
    "assign_color = kmeans.predict(pixels)\n",
    "pt_lst = []\n",
    "Ys = []\n",
    "for p in range(len(pixels)):\n",
    "    pt_lst.append([int(assigned) for assigned in kmeans.cluster_centers_[assign_color[p]]])\n",
    "    if assign_color[p] == 0:\n",
    "        Ys.append([1, 0, 0, 0])\n",
    "    elif assign_color[p] == 1:\n",
    "        Ys.append([0, 1, 0, 0])\n",
    "    elif assign_color[p] == 2:\n",
    "        Ys.append([0, 0, 1, 0])\n",
    "    elif assign_color[p] == 3:\n",
    "        Ys.append([0, 0, 0, 1])\n"
   ]
  },
  {
   "cell_type": "code",
   "execution_count": 57,
   "metadata": {},
   "outputs": [],
   "source": [
    "# get the right format\n",
    "pt_lst = np.reshape(pt_lst, (6000, 32, 32, 3))\n",
    "Ys = np.reshape(Ys, (6000, 32, 32, 4))"
   ]
  },
  {
   "cell_type": "markdown",
   "metadata": {},
   "source": [
    "3. Obtain grayscale 32 × 32 × 1 images from the original 32 × 32 × 3 images as inputs of your network."
   ]
  },
  {
   "cell_type": "code",
   "execution_count": 62,
   "metadata": {},
   "outputs": [],
   "source": [
    "from skimage.color import rgb2grey"
   ]
  },
  {
   "cell_type": "code",
   "execution_count": 74,
   "metadata": {
    "scrolled": true
   },
   "outputs": [],
   "source": [
    "X = []\n",
    "pixel_lst = np.reshape(pixels, (6000, 32, 32, 3))\n",
    "for i in range(len(pixel_lst)):\n",
    "    X.append(rgb2grey(pixel_lst[i]).tolist())"
   ]
  },
  {
   "cell_type": "code",
   "execution_count": 101,
   "metadata": {},
   "outputs": [],
   "source": [
    "X = np.reshape(X, (6000, 32, 32, 1))"
   ]
  },
  {
   "cell_type": "markdown",
   "metadata": {},
   "source": [
    "4. Set up a deep convolutional neural network with two convolution layers and two MLP layers. "
   ]
  },
  {
   "cell_type": "code",
   "execution_count": 102,
   "metadata": {},
   "outputs": [],
   "source": [
    "from tensorflow.keras.utils import to_categorical\n",
    "from keras.models import Sequential\n",
    "from keras.layers import Dense, Conv2D, Flatten, MaxPool2D"
   ]
  },
  {
   "cell_type": "code",
   "execution_count": 103,
   "metadata": {},
   "outputs": [],
   "source": [
    "model = Sequential()"
   ]
  },
  {
   "cell_type": "code",
   "execution_count": 104,
   "metadata": {},
   "outputs": [
    {
     "name": "stdout",
     "output_type": "stream",
     "text": [
      "Model: \"sequential_1\"\n",
      "_________________________________________________________________\n",
      "Layer (type)                 Output Shape              Param #   \n",
      "=================================================================\n",
      "conv2d_4 (Conv2D)            (None, 32, 32, 64)        1664      \n",
      "_________________________________________________________________\n",
      "max_pooling2d_4 (MaxPooling2 (None, 32, 32, 64)        0         \n",
      "_________________________________________________________________\n",
      "conv2d_5 (Conv2D)            (None, 32, 32, 64)        102464    \n",
      "_________________________________________________________________\n",
      "max_pooling2d_5 (MaxPooling2 (None, 32, 32, 64)        0         \n",
      "_________________________________________________________________\n",
      "dense_4 (Dense)              (None, 32, 32, 32)        2080      \n",
      "_________________________________________________________________\n",
      "dense_5 (Dense)              (None, 32, 32, 4)         132       \n",
      "=================================================================\n",
      "Total params: 106,340\n",
      "Trainable params: 106,340\n",
      "Non-trainable params: 0\n",
      "_________________________________________________________________\n"
     ]
    }
   ],
   "source": [
    "model.add(Conv2D(64, kernel_size = (5,5), strides=(1, 1), padding='same', input_shape = (32,32,1)))\n",
    "model.add(MaxPool2D(pool_size=(2, 2), strides=(1, 1), padding='same'))\n",
    "model.add(Conv2D(64, kernel_size = (5,5), strides=(1, 1), padding='same'))\n",
    "model.add(MaxPool2D(pool_size=(2, 2), strides=(1, 1), padding='same'))\n",
    "model.add(Dense(32, activation='softmax'))\n",
    "model.add(Dense(4, activation='softmax'))\n",
    "model.summary()"
   ]
  },
  {
   "cell_type": "code",
   "execution_count": 105,
   "metadata": {},
   "outputs": [],
   "source": [
    "model.compile(optimizer='adam', loss='categorical_crossentropy', metrics=['accuracy'])"
   ]
  },
  {
   "cell_type": "markdown",
   "metadata": {},
   "source": [
    "5. Randomly split training and test sets:"
   ]
  },
  {
   "cell_type": "code",
   "execution_count": 106,
   "metadata": {},
   "outputs": [],
   "source": [
    "X_train, X_test, y_train, y_test = train_test_split(X, Ys, test_size=0.1, random_state=10)"
   ]
  },
  {
   "cell_type": "code",
   "execution_count": 107,
   "metadata": {},
   "outputs": [
    {
     "data": {
      "text/plain": [
       "(5400, 32, 32, 4)"
      ]
     },
     "execution_count": 107,
     "metadata": {},
     "output_type": "execute_result"
    }
   ],
   "source": [
    "y_train.shape"
   ]
  },
  {
   "cell_type": "markdown",
   "metadata": {},
   "source": [
    "6. Train with 16 epochs "
   ]
  },
  {
   "cell_type": "code",
   "execution_count": 108,
   "metadata": {},
   "outputs": [
    {
     "name": "stdout",
     "output_type": "stream",
     "text": [
      "Epoch 1/16\n",
      "169/169 - 27s - loss: 1.2213 - accuracy: 0.5610 - val_loss: 1.1144 - val_accuracy: 0.7094\n",
      "Epoch 2/16\n",
      "169/169 - 27s - loss: 1.0341 - accuracy: 0.7189 - val_loss: 0.9559 - val_accuracy: 0.7325\n",
      "Epoch 3/16\n",
      "169/169 - 27s - loss: 0.9022 - accuracy: 0.7359 - val_loss: 0.8439 - val_accuracy: 0.7462\n",
      "Epoch 4/16\n",
      "169/169 - 28s - loss: 0.8087 - accuracy: 0.7447 - val_loss: 0.7615 - val_accuracy: 0.7544\n",
      "Epoch 5/16\n",
      "169/169 - 28s - loss: 0.7361 - accuracy: 0.7532 - val_loss: 0.6995 - val_accuracy: 0.7596\n",
      "Epoch 6/16\n",
      "169/169 - 28s - loss: 0.6827 - accuracy: 0.7578 - val_loss: 0.6521 - val_accuracy: 0.7629\n",
      "Epoch 7/16\n",
      "169/169 - 28s - loss: 0.6431 - accuracy: 0.7605 - val_loss: 0.6236 - val_accuracy: 0.7576\n",
      "Epoch 8/16\n",
      "169/169 - 28s - loss: 0.6065 - accuracy: 0.7658 - val_loss: 0.5890 - val_accuracy: 0.7640\n",
      "Epoch 9/16\n",
      "169/169 - 28s - loss: 0.5792 - accuracy: 0.7685 - val_loss: 0.5608 - val_accuracy: 0.7728\n",
      "Epoch 10/16\n",
      "169/169 - 29s - loss: 0.5590 - accuracy: 0.7697 - val_loss: 0.5447 - val_accuracy: 0.7746\n",
      "Epoch 11/16\n",
      "169/169 - 29s - loss: 0.5420 - accuracy: 0.7708 - val_loss: 0.5378 - val_accuracy: 0.7729\n",
      "Epoch 12/16\n",
      "169/169 - 29s - loss: 0.5261 - accuracy: 0.7728 - val_loss: 0.5175 - val_accuracy: 0.7762\n",
      "Epoch 13/16\n",
      "169/169 - 31s - loss: 0.5130 - accuracy: 0.7739 - val_loss: 0.4994 - val_accuracy: 0.7772\n",
      "Epoch 14/16\n",
      "169/169 - 33s - loss: 0.5026 - accuracy: 0.7745 - val_loss: 0.4934 - val_accuracy: 0.7792\n",
      "Epoch 15/16\n",
      "169/169 - 28s - loss: 0.4915 - accuracy: 0.7760 - val_loss: 0.4802 - val_accuracy: 0.7801\n",
      "Epoch 16/16\n",
      "169/169 - 28s - loss: 0.4839 - accuracy: 0.7760 - val_loss: 0.4776 - val_accuracy: 0.7806\n"
     ]
    }
   ],
   "source": [
    "network = model.fit(X_train, y_train, validation_data=(X_test, y_test), epochs=16, verbose=2)"
   ]
  },
  {
   "cell_type": "markdown",
   "metadata": {},
   "source": [
    "7. Generate test outputs and compare them with test data"
   ]
  },
  {
   "cell_type": "code",
   "execution_count": 113,
   "metadata": {},
   "outputs": [],
   "source": [
    "# get color information from predictions\n",
    "prediction = model.predict(X_test)"
   ]
  },
  {
   "cell_type": "code",
   "execution_count": 114,
   "metadata": {},
   "outputs": [],
   "source": [
    "prediction = prediction.reshape(614400, 4)"
   ]
  },
  {
   "cell_type": "code",
   "execution_count": 121,
   "metadata": {},
   "outputs": [],
   "source": [
    "output_img = []\n",
    "for p in range(len(prediction)):\n",
    "    output_img.append([int(option) for option in kmeans.cluster_centers_[np.argmax(prediction[p])]])\n",
    "    \n",
    "# get test information from test set \n",
    "y_test_rs = y_test.reshape(614400, 4)\n",
    "y_test_colors = []\n",
    "for p in range(len(y_test_rs)):\n",
    "    y_test_colors.append([int(option) for option in kmeans.cluster_centers_[np.argmax(y_test_rs[p])]])\n",
    "    \n",
    "output_img = np.reshape(output_img, (600, 32, 32, 3))\n",
    "y_test_colors = np.reshape(y_test_colors, (600, 32, 32, 3))"
   ]
  },
  {
   "cell_type": "markdown",
   "metadata": {},
   "source": [
    "Vitual Comparison: "
   ]
  },
  {
   "cell_type": "code",
   "execution_count": 122,
   "metadata": {},
   "outputs": [
    {
     "data": {
      "image/png": "[encoded data removed]",
      "text/plain": [
       "<Figure size 720x2160 with 20 Axes>"
      ]
     },
     "metadata": {
      "needs_background": "light"
     },
     "output_type": "display_data"
    }
   ],
   "source": [
    "plt.figure(figsize=(10, 30))\n",
    "subplotcount = 1\n",
    "for i in range(0,10):\n",
    "    plt.subplot(10, 2, subplotcount)\n",
    "    subplotcount+=1\n",
    "    plt.imshow(y_test_colors[i])\n",
    "    plt.subplot(10, 2, subplotcount)\n",
    "    subplotcount+=1\n",
    "    plt.imshow(output_img[i])\n",
    "    plt.axis('off')\n",
    "plt.show()"
   ]
  },
  {
   "cell_type": "markdown",
   "metadata": {},
   "source": [
    "The curve for training, test error in 16 epoches' learning process:"
   ]
  },
  {
   "cell_type": "code",
   "execution_count": 123,
   "metadata": {},
   "outputs": [
    {
     "data": {
      "text/plain": [
       "<matplotlib.legend.Legend at 0x7fbd74489c10>"
      ]
     },
     "execution_count": 123,
     "metadata": {},
     "output_type": "execute_result"
    },
    {
     "data": {
      "image/png": "[encoded data removed]",
      "text/plain": [
       "<Figure size 432x288 with 1 Axes>"
      ]
     },
     "metadata": {
      "needs_background": "light"
     },
     "output_type": "display_data"
    }
   ],
   "source": [
    "epochs = [int(i) for i in range(1, 17)]\n",
    "plt.plot(epochs, network.history['loss'], marker = \"x\", color=\"b\", label = \"Testing Error\")\n",
    "plt.plot(epochs, network.history['val_loss'], marker = \"x\", color = \"r\", label = \"Training Error\")\n",
    "plt.legend()"
   ]
  },
  {
   "cell_type": "code",
   "execution_count": null,
   "metadata": {},
   "outputs": [],
   "source": []
  }
 ],
 "metadata": {
  "kernelspec": {
   "display_name": "Python 3",
   "language": "python",
   "name": "python3"
  },
  "language_info": {
   "codemirror_mode": {
    "name": "ipython",
    "version": 3
   },
   "file_extension": ".py",
   "mimetype": "text/x-python",
   "name": "python",
   "nbconvert_exporter": "python",
   "pygments_lexer": "ipython3",
   "version": "3.8.3"
  }
 },
 "nbformat": 4,
 "nbformat_minor": 4
}
